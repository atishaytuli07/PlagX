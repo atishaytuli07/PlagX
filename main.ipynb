{
 "cells": [
  {
   "cell_type": "markdown",
   "metadata": {},
   "source": [
    "### ⭐ Pre-Requirements"
   ]
  },
  {
   "cell_type": "code",
   "execution_count": null,
   "metadata": {},
   "outputs": [],
   "source": [
    "%pip install -r requirements.txt"
   ]
  },
  {
   "cell_type": "markdown",
   "metadata": {},
   "source": [
    "## Step 1: Intialize all the Constants and Load .env"
   ]
  },
  {
   "cell_type": "code",
   "execution_count": null,
   "metadata": {},
   "outputs": [],
   "source": [
    "from dotenv import load_dotenv\n",
    "import os \n",
    "\n",
    "load_dotenv()\n",
    "\n",
    "CONTEST=\"plagiarism/W409\" ### change according to the contest if weekly then W{contest_number} if biweekly then BW{contest_number}\n",
    "CONTEST_NAME=\"Weekly-Contest-409\"  ### if weekly then Weekly-Contest-{contest_number} if biweekly then Biweekly-Contest-{contest_number}\n",
    "ORG_LINK=\"https://leetcode.com\"\n",
    "CONTEST_URL = f\"{ORG_LINK}/contest/api/ranking/{CONTEST_NAME}\" \n",
    "CONTEST_SUB = f\"{ORG_LINK}/contest/{CONTEST_NAME}/submissions/detail/\" ### same as above\n",
    "USER_LINK = f\"{ORG_LINK}/u/\"\n",
    "START_PAGE=1 ### change according to contest basically it is the page untill which Q3 or Q4 is submitted see in leetcode contest ranking page\n",
    "END_PAGE=62 ### change according to contest basically it is the page untill which Q3 or Q4 is submitted see in leetcode contest ranking page\n",
    "\n",
    "### load this all from the .env file for security\n",
    "GITHUB_TOKEN = os.getenv(\"GITHUB_TOKEN\")\n",
    "GITHUB_REPO = os.getenv(\"GITHUB_REPO\")\n",
    "BRANCH = os.getenv(\"BRANCH\")\n",
    "JSON_FOLDER_PATH = os.getenv(\"JSON_FOLDER_PATH\")\n",
    "DATA_FOLDER_PATH = os.getenv(\"DATA_FOLDER_PATH\")\n",
    "GITHUB_LINK = os.getenv(\"GITHUB_LINK\")\n",
    "WEB_PATH=os.getenv(\"WEB_PATH\")\n",
    "CLIST_API=os.getenv(\"CLIST_API\")"
   ]
  },
  {
   "cell_type": "markdown",
   "metadata": {},
   "source": [
    "### Step 2: Create all Required Folders "
   ]
  },
  {
   "cell_type": "code",
   "execution_count": null,
   "metadata": {},
   "outputs": [],
   "source": [
    "from utils import create_directories\n",
    "\n",
    "create_directories(CONTEST)"
   ]
  },
  {
   "cell_type": "markdown",
   "metadata": {},
   "source": [
    "### Step 3: Crawl the Website for Contest Data and Submission Data"
   ]
  },
  {
   "cell_type": "code",
   "execution_count": null,
   "metadata": {},
   "outputs": [],
   "source": [
    "from utils import contest_crawler\n",
    "\n",
    "contest_crawler(CONTEST,CONTEST_URL,START_PAGE,END_PAGE)"
   ]
  },
  {
   "cell_type": "markdown",
   "metadata": {},
   "source": [
    "### Step 4: Create Zips for Contest Data and Submission Data"
   ]
  },
  {
   "cell_type": "code",
   "execution_count": null,
   "metadata": {},
   "outputs": [],
   "source": [
    "from utils import zip_questions\n",
    "\n",
    "zip_questions(CONTEST)"
   ]
  },
  {
   "cell_type": "markdown",
   "metadata": {},
   "source": [
    "### Step 5: Final Submit Reports and Downloading Reports"
   ]
  },
  {
   "cell_type": "code",
   "execution_count": null,
   "metadata": {},
   "outputs": [],
   "source": [
    "from utils import download_final_reports\n",
    "\n",
    "download_final_reports(CONTEST)"
   ]
  },
  {
   "cell_type": "markdown",
   "metadata": {},
   "source": [
    "### Step 6: Combine Result Reports"
   ]
  },
  {
   "cell_type": "code",
   "execution_count": null,
   "metadata": {},
   "outputs": [],
   "source": [
    "from utils import combine_reports\n",
    "\n",
    "combine_reports(CONTEST)"
   ]
  },
  {
   "cell_type": "markdown",
   "metadata": {},
   "source": [
    "### Step 7: Calculating Final Results"
   ]
  },
  {
   "cell_type": "code",
   "execution_count": null,
   "metadata": {},
   "outputs": [],
   "source": [
    "from utils import final_report_results\n",
    "\n",
    "final_report_results(CONTEST,USER_LINK,CONTEST_SUB)"
   ]
  },
  {
   "cell_type": "markdown",
   "metadata": {},
   "source": [
    "### Step 8: Convert Final Reports to json"
   ]
  },
  {
   "cell_type": "code",
   "execution_count": null,
   "metadata": {},
   "outputs": [],
   "source": [
    "from utils import convert_reports_to_json\n",
    "\n",
    "convert_reports_to_json(CONTEST)"
   ]
  },
  {
   "cell_type": "markdown",
   "metadata": {},
   "source": [
    "### Step 9: Upload Json Reports to Github"
   ]
  },
  {
   "cell_type": "code",
   "execution_count": null,
   "metadata": {},
   "outputs": [],
   "source": [
    "from utils import upload_json_results\n",
    "\n",
    "upload_json_results(JSON_FOLDER_PATH,GITHUB_REPO,BRANCH,GITHUB_TOKEN)"
   ]
  },
  {
   "cell_type": "markdown",
   "metadata": {},
   "source": [
    "### Step 10: Finally Upload Data File to Github"
   ]
  },
  {
   "cell_type": "code",
   "execution_count": null,
   "metadata": {},
   "outputs": [],
   "source": [
    "from utils import upload_data_file\n",
    "\n",
    "upload_data_file(CONTEST_NAME,JSON_FOLDER_PATH,DATA_FOLDER_PATH+\"data.json\",DATA_FOLDER_PATH,GITHUB_REPO,BRANCH,GITHUB_TOKEN,CLIST_API)"
   ]
  }
 ],
 "metadata": {
  "kernelspec": {
   "display_name": ".venv",
   "language": "python",
   "name": "python3"
  },
  "language_info": {
   "codemirror_mode": {
    "name": "ipython",
    "version": 3
   },
   "file_extension": ".py",
   "mimetype": "text/x-python",
   "name": "python",
   "nbconvert_exporter": "python",
   "pygments_lexer": "ipython3",
   "version": "3.12.2"
  }
 },
 "nbformat": 4,
 "nbformat_minor": 2
}
